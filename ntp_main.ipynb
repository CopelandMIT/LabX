{
 "cells": [
  {
   "cell_type": "code",
   "execution_count": 2,
   "metadata": {},
   "outputs": [
    {
     "ename": "ImportError",
     "evalue": "cannot import name 'CentralServer' from 'central_server.central_server' (/Users/danielcopeland/Library/Mobile Documents/com~apple~CloudDocs/MIT Masters/DRL/Temps/LabX/central_server/central_server.py)",
     "output_type": "error",
     "traceback": [
      "\u001b[0;31m---------------------------------------------------------------------------\u001b[0m",
      "\u001b[0;31mImportError\u001b[0m                               Traceback (most recent call last)",
      "Cell \u001b[0;32mIn[2], line 7\u001b[0m\n\u001b[1;32m      5\u001b[0m \u001b[39mimport\u001b[39;00m \u001b[39mcv2\u001b[39;00m\n\u001b[1;32m      6\u001b[0m \u001b[39mimport\u001b[39;00m \u001b[39mnumpy\u001b[39;00m \u001b[39mas\u001b[39;00m \u001b[39mnp\u001b[39;00m\n\u001b[0;32m----> 7\u001b[0m \u001b[39mfrom\u001b[39;00m \u001b[39mcentral_server\u001b[39;00m\u001b[39m.\u001b[39;00m\u001b[39mcentral_server\u001b[39;00m \u001b[39mimport\u001b[39;00m CentralServer\n\u001b[1;32m      8\u001b[0m \u001b[39mfrom\u001b[39;00m \u001b[39msensors\u001b[39;00m\u001b[39m.\u001b[39;00m\u001b[39mcamera_node\u001b[39;00m \u001b[39mimport\u001b[39;00m CameraNode\n\u001b[1;32m     10\u001b[0m \u001b[39m# Function to run the central server in a thread\u001b[39;00m\n",
      "\u001b[0;31mImportError\u001b[0m: cannot import name 'CentralServer' from 'central_server.central_server' (/Users/danielcopeland/Library/Mobile Documents/com~apple~CloudDocs/MIT Masters/DRL/Temps/LabX/central_server/central_server.py)"
     ]
    }
   ],
   "source": [
    "# Import necessary libraries\n",
    "import zmq\n",
    "import time\n",
    "import threading\n",
    "import cv2\n",
    "import numpy as np\n",
    "from central_server.central_server import CentralServer\n",
    "from sensors.camera_node import CameraNode\n",
    "\n",
    "# Function to run the central server in a thread\n",
    "def run_central_server():\n",
    "    server = CentralServer()\n",
    "    server.start()\n",
    "    time.sleep(2)  # Allow some time for the server to start\n",
    "    server.send_start_signal(future_seconds=5)\n",
    "\n",
    "# Function to run the camera node in a thread\n",
    "def run_camera_node():\n",
    "    camera_node = CameraNode(\"192.168.68.100\")  # Replace with central server IP in a real setup\n",
    "    camera_node.connect_to_server()\n",
    "    camera_node.listen_for_start_signal()\n"
   ]
  },
  {
   "cell_type": "code",
   "execution_count": null,
   "metadata": {},
   "outputs": [],
   "source": [
    "\n",
    "# Create and start threads for the central server and camera node\n",
    "central_server_thread = threading.Thread(target=run_central_server)\n",
    "camera_node_thread = threading.Thread(target=run_camera_node)\n",
    "\n",
    "central_server_thread.start()\n",
    "camera_node_thread.start()\n",
    "\n",
    "# Wait for threads to complete\n",
    "central_server_thread.join()\n",
    "camera_node_thread.join()\n",
    "\n",
    "print(\"Test completed.\")"
   ]
  }
 ],
 "metadata": {
  "kernelspec": {
   "display_name": "Python 3.10.14 ('labx_env')",
   "language": "python",
   "name": "python3"
  },
  "language_info": {
   "codemirror_mode": {
    "name": "ipython",
    "version": 3
   },
   "file_extension": ".py",
   "mimetype": "text/x-python",
   "name": "python",
   "nbconvert_exporter": "python",
   "pygments_lexer": "ipython3",
   "version": "3.10.14"
  },
  "orig_nbformat": 4,
  "vscode": {
   "interpreter": {
    "hash": "4898122de8d68b709e341514d93b32ca3bf5c81bab26c47a4ab23f1bf068bc76"
   }
  }
 },
 "nbformat": 4,
 "nbformat_minor": 2
}
