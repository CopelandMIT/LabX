{
 "cells": [
  {
   "cell_type": "code",
   "execution_count": 1,
   "metadata": {},
   "outputs": [
    {
     "name": "stdout",
     "output_type": "stream",
     "text": [
      "Listening for commands on tcp://192.168.68.125:5555\n",
      "Recieved messgae data: {'command': 'CONFIRM_CONNECTION'}\n",
      "Handling command: CONFIRM_CONNECTION\n",
      "Central Server Connection Confirmed\n",
      "Sent status: Ready\n",
      "Recieved messgae data: {'command': 'START_RECORDING', 'filename': 'test_video_1720387033.903937', 'delayed_start_timestamp': 1720387033.903937, 'sensor_deployment_id': '001', 'duration': 10, 'additional_info': ''}\n",
      "Handling command: START_RECORDING\n",
      "test_video_1720387033.903937\n",
      "/home/dcope/LabX/data/test_video_1720387033.903937.avi\n",
      "Camera 001 Started\n",
      "Sent status: Recording\n",
      "Sent status: Completed\n",
      "Data collection completed at 1720387043.9770114\n",
      "File saved: /home/dcope/LabX/data/test_video_1720387033.903937.avi.avi\n",
      "Recieved messgae data: {'command': 'STATUS_UPDATE'}\n",
      "Handling command: STATUS_UPDATE\n",
      "Sent status: Recording\n",
      "Recieved messgae data: {'command': 'STATUS_UPDATE'}\n",
      "Handling command: STATUS_UPDATE\n",
      "Sent status: Recording\n",
      "Recieved messgae data: {'command': 'STATUS_UPDATE'}\n",
      "Handling command: STATUS_UPDATE\n",
      "Sent status: Recording\n",
      "Recieved messgae data: {'command': 'STATUS_UPDATE'}\n",
      "Handling command: STATUS_UPDATE\n",
      "Sent status: Recording\n",
      "Recieved messgae data: {'command': 'STATUS_UPDATE'}\n",
      "Handling command: STATUS_UPDATE\n",
      "Sent status: Recording\n",
      "Recieved messgae data: {'command': 'STATUS_UPDATE'}\n",
      "Handling command: STATUS_UPDATE\n",
      "Sent status: Recording\n",
      "Recieved messgae data: {'command': 'STATUS_UPDATE'}\n",
      "Handling command: STATUS_UPDATE\n",
      "Sent status: Recording\n",
      "Recieved messgae data: {'command': 'STATUS_UPDATE'}\n",
      "Handling command: STATUS_UPDATE\n",
      "Sent status: Recording\n",
      "Recieved messgae data: {'command': 'STATUS_UPDATE'}\n",
      "Handling command: STATUS_UPDATE\n",
      "Sent status: Recording\n",
      "Recieved messgae data: {'command': 'STATUS_UPDATE'}\n",
      "Handling command: STATUS_UPDATE\n",
      "Sent status: Recording\n",
      "Recieved messgae data: {'command': 'STATUS_UPDATE'}\n",
      "Handling command: STATUS_UPDATE\n",
      "Sent status: Recording\n",
      "Recieved messgae data: {'command': 'STATUS_UPDATE'}\n",
      "Handling command: STATUS_UPDATE\n",
      "Sent status: Recording\n",
      "Recieved messgae data: {'command': 'STATUS_UPDATE'}\n",
      "Handling command: STATUS_UPDATE\n",
      "Sent status: Recording\n",
      "Recieved messgae data: {'command': 'STATUS_UPDATE'}\n",
      "Handling command: STATUS_UPDATE\n",
      "Sent status: Recording\n",
      "Recieved messgae data: {'command': 'STATUS_UPDATE'}\n",
      "Handling command: STATUS_UPDATE\n",
      "Sent status: Recording\n"
     ]
    },
    {
     "ename": "KeyboardInterrupt",
     "evalue": "",
     "output_type": "error",
     "traceback": [
      "\u001b[0;31m---------------------------------------------------------------------------\u001b[0m",
      "\u001b[0;31mKeyboardInterrupt\u001b[0m                         Traceback (most recent call last)",
      "Cell \u001b[0;32mIn[1], line 12\u001b[0m\n\u001b[1;32m     10\u001b[0m \u001b[38;5;66;03m# Keep the main thread alive while the listener thread is running\u001b[39;00m\n\u001b[1;32m     11\u001b[0m \u001b[38;5;28;01mwhile\u001b[39;00m listen_thread\u001b[38;5;241m.\u001b[39mis_alive():\n\u001b[0;32m---> 12\u001b[0m     \u001b[43msleep\u001b[49m\u001b[43m(\u001b[49m\u001b[38;5;241;43m1\u001b[39;49m\u001b[43m)\u001b[49m\n",
      "\u001b[0;31mKeyboardInterrupt\u001b[0m: "
     ]
    }
   ],
   "source": [
    "from threading import Thread\n",
    "from time import sleep\n",
    "import os\n",
    "from sensors.camera_node import CameraNode\n",
    "\n",
    "camera_node = CameraNode(central_server_ip=\"192.168.68.125\")\n",
    "listen_thread = Thread(target=camera_node.listen_for_commands)\n",
    "listen_thread.start()\n",
    "                    \n",
    "# Keep the main thread alive while the listener thread is running\n",
    "while listen_thread.is_alive():\n",
    "    sleep(1)\n"
   ]
  }
 ],
 "metadata": {
  "kernelspec": {
   "display_name": "labx_env",
   "language": "python",
   "name": "python3"
  },
  "language_info": {
   "codemirror_mode": {
    "name": "ipython",
    "version": 3
   },
   "file_extension": ".py",
   "mimetype": "text/x-python",
   "name": "python",
   "nbconvert_exporter": "python",
   "pygments_lexer": "ipython3",
   "version": "3.11.2"
  }
 },
 "nbformat": 4,
 "nbformat_minor": 2
}
