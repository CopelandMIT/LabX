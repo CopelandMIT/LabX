{
 "cells": [
  {
   "cell_type": "code",
   "execution_count": 1,
   "metadata": {},
   "outputs": [],
   "source": [
    "# Import necessary libraries\n",
    "import zmq\n",
    "import time\n",
    "import threading\n",
    "import cv2\n",
    "import numpy as np\n",
    "from central_server.central_server import CentralServer\n",
    "from sensors.camera_node import CameraNode\n",
    "\n",
    "# Function to run the central server in a thread\n",
    "def run_central_server():\n",
    "    server = CentralServer()\n",
    "    server.start()\n",
    "    time.sleep(2)  # Allow some time for the server to start\n",
    "    server.send_start_signal(future_seconds=5)\n",
    "\n",
    "# Function to run the camera node in a thread\n",
    "def run_camera_node():\n",
    "    camera_node = CameraNode(\"192.168.68.100\")  # Replace with central server IP in a real setup\n",
    "    camera_node.connect_to_server()\n",
    "    camera_node.listen_for_start_signal()\n"
   ]
  },
  {
   "cell_type": "code",
   "execution_count": 2,
   "metadata": {},
   "outputs": [
    {
     "name": "stdout",
     "output_type": "stream",
     "text": [
      "Central server started\n",
      "Connected to central server\n",
      "Sent start signal to connected nodes (future seconds: 5)\n"
     ]
    },
    {
     "ename": "KeyboardInterrupt",
     "evalue": "",
     "output_type": "error",
     "traceback": [
      "\u001b[0;31m---------------------------------------------------------------------------\u001b[0m",
      "\u001b[0;31mKeyboardInterrupt\u001b[0m                         Traceback (most recent call last)",
      "Cell \u001b[0;32mIn[2], line 10\u001b[0m\n\u001b[1;32m      8\u001b[0m \u001b[39m# Wait for threads to complete\u001b[39;00m\n\u001b[1;32m      9\u001b[0m central_server_thread\u001b[39m.\u001b[39mjoin()\n\u001b[0;32m---> 10\u001b[0m camera_node_thread\u001b[39m.\u001b[39;49mjoin()\n\u001b[1;32m     12\u001b[0m \u001b[39mprint\u001b[39m(\u001b[39m\"\u001b[39m\u001b[39mTest completed.\u001b[39m\u001b[39m\"\u001b[39m)\n",
      "File \u001b[0;32m~/opt/anaconda3/envs/labx_env/lib/python3.10/threading.py:1096\u001b[0m, in \u001b[0;36mThread.join\u001b[0;34m(self, timeout)\u001b[0m\n\u001b[1;32m   1093\u001b[0m     \u001b[39mraise\u001b[39;00m \u001b[39mRuntimeError\u001b[39;00m(\u001b[39m\"\u001b[39m\u001b[39mcannot join current thread\u001b[39m\u001b[39m\"\u001b[39m)\n\u001b[1;32m   1095\u001b[0m \u001b[39mif\u001b[39;00m timeout \u001b[39mis\u001b[39;00m \u001b[39mNone\u001b[39;00m:\n\u001b[0;32m-> 1096\u001b[0m     \u001b[39mself\u001b[39;49m\u001b[39m.\u001b[39;49m_wait_for_tstate_lock()\n\u001b[1;32m   1097\u001b[0m \u001b[39melse\u001b[39;00m:\n\u001b[1;32m   1098\u001b[0m     \u001b[39m# the behavior of a negative timeout isn't documented, but\u001b[39;00m\n\u001b[1;32m   1099\u001b[0m     \u001b[39m# historically .join(timeout=x) for x<0 has acted as if timeout=0\u001b[39;00m\n\u001b[1;32m   1100\u001b[0m     \u001b[39mself\u001b[39m\u001b[39m.\u001b[39m_wait_for_tstate_lock(timeout\u001b[39m=\u001b[39m\u001b[39mmax\u001b[39m(timeout, \u001b[39m0\u001b[39m))\n",
      "File \u001b[0;32m~/opt/anaconda3/envs/labx_env/lib/python3.10/threading.py:1116\u001b[0m, in \u001b[0;36mThread._wait_for_tstate_lock\u001b[0;34m(self, block, timeout)\u001b[0m\n\u001b[1;32m   1113\u001b[0m     \u001b[39mreturn\u001b[39;00m\n\u001b[1;32m   1115\u001b[0m \u001b[39mtry\u001b[39;00m:\n\u001b[0;32m-> 1116\u001b[0m     \u001b[39mif\u001b[39;00m lock\u001b[39m.\u001b[39;49macquire(block, timeout):\n\u001b[1;32m   1117\u001b[0m         lock\u001b[39m.\u001b[39mrelease()\n\u001b[1;32m   1118\u001b[0m         \u001b[39mself\u001b[39m\u001b[39m.\u001b[39m_stop()\n",
      "\u001b[0;31mKeyboardInterrupt\u001b[0m: "
     ]
    }
   ],
   "source": [
    "# Create and start threads for the central server and camera node\n",
    "central_server_thread = threading.Thread(target=run_central_server)\n",
    "camera_node_thread = threading.Thread(target=run_camera_node)\n",
    "\n",
    "central_server_thread.start()\n",
    "camera_node_thread.start()\n",
    "\n",
    "# Wait for threads to complete\n",
    "central_server_thread.join()\n",
    "camera_node_thread.join()\n",
    "\n",
    "print(\"Test completed.\")"
   ]
  }
 ],
 "metadata": {
  "kernelspec": {
   "display_name": "Python 3.10.14 ('labx_env')",
   "language": "python",
   "name": "python3"
  },
  "language_info": {
   "codemirror_mode": {
    "name": "ipython",
    "version": 3
   },
   "file_extension": ".py",
   "mimetype": "text/x-python",
   "name": "python",
   "nbconvert_exporter": "python",
   "pygments_lexer": "ipython3",
   "version": "3.10.14"
  },
  "orig_nbformat": 4,
  "vscode": {
   "interpreter": {
    "hash": "4898122de8d68b709e341514d93b32ca3bf5c81bab26c47a4ab23f1bf068bc76"
   }
  }
 },
 "nbformat": 4,
 "nbformat_minor": 2
}
