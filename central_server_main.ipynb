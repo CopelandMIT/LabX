{
 "cells": [
  {
   "cell_type": "code",
   "execution_count": 1,
   "metadata": {},
   "outputs": [],
   "source": [
    "import time\n",
    "import threading\n",
    "from central_server.central_server import CentralServer "
   ]
  },
  {
   "cell_type": "markdown",
   "metadata": {},
   "source": [
    "Initialize Server"
   ]
  },
  {
   "cell_type": "code",
   "execution_count": 2,
   "metadata": {},
   "outputs": [
    {
     "name": "stdout",
     "output_type": "stream",
     "text": [
      "Central server publisher started on port 5555\n",
      "Central server report socket started on port 5566\n",
      "Sensor statuses:\n",
      "001: Offline\n"
     ]
    }
   ],
   "source": [
    "server = CentralServer(pub_port=5555, router_port=5566)"
   ]
  },
  {
   "cell_type": "markdown",
   "metadata": {},
   "source": [
    "Confirm Connection to Camera Node"
   ]
  },
  {
   "cell_type": "code",
   "execution_count": 3,
   "metadata": {},
   "outputs": [
    {
     "name": "stdout",
     "output_type": "stream",
     "text": [
      "Published command: CONFIRM_CONNECTION on tcp://*:5555\n",
      "Confirm Connection message sent.\n"
     ]
    }
   ],
   "source": [
    "server.confirm_central_server_to_node_connection()"
   ]
  },
  {
   "cell_type": "markdown",
   "metadata": {},
   "source": [
    "Record Data"
   ]
  },
  {
   "cell_type": "code",
   "execution_count": 4,
   "metadata": {},
   "outputs": [
    {
     "name": "stdout",
     "output_type": "stream",
     "text": [
      "Published command: START_RECORDING on tcp://*:5555\n",
      "Sent start signal for camera file: CAM_001_1720385392.925067_10_.avi\n",
      "Published command: STATUS_UPDATE on tcp://*:5555\n",
      "Sensor statuses:\n",
      "001: ACK\n",
      "Published command: STATUS_UPDATE on tcp://*:5555\n",
      "Sensor statuses:\n",
      "001: ACK\n",
      "Published command: STATUS_UPDATE on tcp://*:5555\n",
      "Sensor statuses:\n",
      "001: ACK\n",
      "Published command: STATUS_UPDATE on tcp://*:5555\n",
      "Sensor statuses:\n",
      "001: ACK\n",
      "Published command: STATUS_UPDATE on tcp://*:5555\n",
      "Sensor statuses:\n",
      "001: ACK\n",
      "Published command: STATUS_UPDATE on tcp://*:5555\n",
      "Sensor statuses:\n",
      "001: ACK\n",
      "Published command: STATUS_UPDATE on tcp://*:5555\n",
      "Sensor statuses:\n",
      "001: ACK\n",
      "Published command: STATUS_UPDATE on tcp://*:5555\n",
      "Sensor statuses:\n",
      "001: ACK\n",
      "Published command: STATUS_UPDATE on tcp://*:5555\n",
      "Sensor statuses:\n",
      "001: ACK\n",
      "Published command: STATUS_UPDATE on tcp://*:5555\n",
      "Sensor statuses:\n",
      "001: ACK\n",
      "Published command: STATUS_UPDATE on tcp://*:5555\n",
      "Sensor statuses:\n",
      "001: ACK\n",
      "Published command: STATUS_UPDATE on tcp://*:5555\n",
      "Sensor statuses:\n",
      "001: ACK\n",
      "Published command: STATUS_UPDATE on tcp://*:5555\n",
      "Sensor statuses:\n",
      "001: ACK\n",
      "Published command: STATUS_UPDATE on tcp://*:5555\n",
      "Sensor statuses:\n",
      "001: ACK\n",
      "Published command: STATUS_UPDATE on tcp://*:5555\n",
      "Sensor statuses:\n",
      "001: ACK\n",
      "Sensor statuses:\n",
      "001: ACK\n",
      "Server operations completed.\n"
     ]
    }
   ],
   "source": [
    "# Run Server on a thread\n",
    "server_thread = threading.Thread(target=server.run())\n",
    "server_thread.start()\n",
    "\n",
    "# Keep the main thread alive while the server is running\n",
    "while server_thread.is_alive():\n",
    "    time.sleep(1)\n",
    "\n",
    "print(\"Server operations completed.\")"
   ]
  }
 ],
 "metadata": {
  "kernelspec": {
   "display_name": "Python 3.10.14 ('labx_env')",
   "language": "python",
   "name": "python3"
  },
  "language_info": {
   "codemirror_mode": {
    "name": "ipython",
    "version": 3
   },
   "file_extension": ".py",
   "mimetype": "text/x-python",
   "name": "python",
   "nbconvert_exporter": "python",
   "pygments_lexer": "ipython3",
   "version": "3.10.14"
  },
  "orig_nbformat": 4,
  "vscode": {
   "interpreter": {
    "hash": "4898122de8d68b709e341514d93b32ca3bf5c81bab26c47a4ab23f1bf068bc76"
   }
  }
 },
 "nbformat": 4,
 "nbformat_minor": 2
}
