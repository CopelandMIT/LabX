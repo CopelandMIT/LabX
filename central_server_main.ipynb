{
 "cells": [
  {
   "cell_type": "code",
   "execution_count": 1,
   "metadata": {},
   "outputs": [],
   "source": [
    "# Import necessary libraries\n",
    "import zmq\n",
    "import time\n",
    "import threading\n",
    "import cv2\n",
    "import numpy as np\n",
    "from central_server.central_server import CentralServer\n",
    "\n",
    "# Function to run the central server in a thread\n",
    "def run_central_server():\n",
    "    central_server = CentralServer()\n",
    "    central_server.start()\n",
    "    time.sleep(1)  # Allow some time for the server to start\n",
    "    central_server.send_start_signal()\n"
   ]
  },
  {
   "cell_type": "code",
   "execution_count": 2,
   "metadata": {},
   "outputs": [
    {
     "name": "stdout",
     "output_type": "stream",
     "text": [
      "Test completed.\n"
     ]
    }
   ],
   "source": [
    "# Create and start threads for the central server and camera node\n",
    "central_server_thread = threading.Thread(target=run_central_server)\n",
    "\n",
    "print(\"Test completed.\")"
   ]
  }
 ],
 "metadata": {
  "kernelspec": {
   "display_name": "Python 3.10.14 ('labx_env')",
   "language": "python",
   "name": "python3"
  },
  "language_info": {
   "codemirror_mode": {
    "name": "ipython",
    "version": 3
   },
   "file_extension": ".py",
   "mimetype": "text/x-python",
   "name": "python",
   "nbconvert_exporter": "python",
   "pygments_lexer": "ipython3",
   "version": "3.10.14"
  },
  "orig_nbformat": 4,
  "vscode": {
   "interpreter": {
    "hash": "4898122de8d68b709e341514d93b32ca3bf5c81bab26c47a4ab23f1bf068bc76"
   }
  }
 },
 "nbformat": 4,
 "nbformat_minor": 2
}
