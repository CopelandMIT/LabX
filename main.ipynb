{
 "cells": [
  {
   "cell_type": "code",
   "execution_count": 1,
   "metadata": {},
   "outputs": [],
   "source": [
    "from threading import Thread\n",
    "import time\n",
    "import os\n",
    "from sensors.camera_publisher import CameraPublisher\n",
    "from central_server.camera_subscriber import CameraSubscriber\n",
    "\n",
    "def run_publisher(port, duration, publisher):\n",
    "    publisher.start_publishing()\n",
    "\n",
    "def run_subscriber(ports, hdf5_file_name, subscriber):\n",
    "    subscriber.save_frames_to_hdf5()\n"
   ]
  },
  {
   "cell_type": "code",
   "execution_count": 2,
   "metadata": {},
   "outputs": [
    {
     "name": "stdout",
     "output_type": "stream",
     "text": [
      "Camera publisher running on port 5555 for 30 seconds\n",
      "Frame 1 sent.\n",
      "Frame 2 sent.\n",
      "Frame 3 sent.\n",
      "Frame 4 sent.\n",
      "Frame 5 sent.\n",
      "Frame 6 sent.\n",
      "Frame 7 sent.\n",
      "Frame 8 sent.\n",
      "Frame 9 sent.\n",
      "Frame 10 sent.\n",
      "Frame 11 sent.\n",
      "Frame 12 sent.\n",
      "Frame 13 sent.\n",
      "Frame 14 sent.\n",
      "Frame 15 sent.\n",
      "Camera publisher stopped.\n",
      "Camera subscriber stopped.\n",
      "Camera publisher stopped.\n"
     ]
    }
   ],
   "source": [
    "# Define ports and duration\n",
    "publisher_ports = [5555]\n",
    "duration = 30  # duration in seconds\n",
    "hdf5_file_name = \"hdf5_test_v3\"\n",
    "\n",
    "# Create instances of the publisher and subscriber\n",
    "publisher = CameraPublisher(usb_camera_port_number=2, zmq_port=publisher_ports[0], duration=duration)\n",
    "subscriber = CameraSubscriber(publisher_ports=publisher_ports, output_dir='/home/dcope/LabX/data', hdf5_file_path=f'/home/dcope/LabX/data/{hdf5_file_name}.hdf5')\n",
    "\n",
    "# Create and start publisher thread\n",
    "publisher_thread = Thread(target=run_publisher, args=(publisher_ports[0], duration, publisher))\n",
    "publisher_thread.start()\n",
    "\n",
    "# Create and start the subscriber thread\n",
    "subscriber_thread = Thread(target=run_subscriber, args=(publisher_ports, hdf5_file_name, subscriber))\n",
    "subscriber_thread.start()\n",
    "\n",
    "# Wait for the duration and then stop the threads\n",
    "time.sleep(duration)\n",
    "publisher.stop()\n",
    "subscriber.stop()\n",
    "\n",
    "# Join threads to wait for them to finish\n",
    "publisher_thread.join()\n",
    "subscriber_thread.join()\n"
   ]
  }
 ],
 "metadata": {
  "kernelspec": {
   "display_name": "labx_env",
   "language": "python",
   "name": "python3"
  },
  "language_info": {
   "codemirror_mode": {
    "name": "ipython",
    "version": 3
   },
   "file_extension": ".py",
   "mimetype": "text/x-python",
   "name": "python",
   "nbconvert_exporter": "python",
   "pygments_lexer": "ipython3",
   "version": "3.10.13"
  }
 },
 "nbformat": 4,
 "nbformat_minor": 2
}
